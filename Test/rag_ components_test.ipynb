{
 "cells": [
  {
   "cell_type": "code",
   "execution_count": 1,
   "metadata": {},
   "outputs": [],
   "source": [
    "import torch\n",
    "from document_prompts_utils import text_splitter  , embedding_model\n",
    "from semantic_similarity_utils import vector_db , retrieval"
   ]
  },
  {
   "cell_type": "code",
   "execution_count": 2,
   "metadata": {},
   "outputs": [],
   "source": [
    "text = '''Egypt (Arabic: مصر Miṣr [mesˁr], Egyptian Arabic pronunciation: [mɑsˤr]), officially the Arab Republic of Egypt, is a transcontinental country spanning the northeast corner of Africa and the Sinai Peninsula in the southwest corner of Asia. It is bordered by the Mediterranean Sea to the north, the Gaza Strip of Palestine to the northeast, the Red Sea to the east, Sudan to the south, and Libya to the west. The Gulf of Aqaba in the northeast separates Egypt from Jordan and Saudi Arabia. Cairo is the capital and largest city of Egypt, while Alexandria, the second-largest city, is an important industrial and tourist hub at the Mediterranean coast.[21] At approximately 100 million inhabitants, Egypt is the 14th-most populated country in the world, and the third-most populated in Africa.\n",
    "\n",
    "Egypt has one of the longest histories of any country, tracing its heritage along the Nile Delta back to the 6th–4th millennia BCE. Considered a cradle of civilisation, Ancient Egypt saw some of the earliest developments of writing, agriculture, urbanisation, organised religion and central government.[22] Egypt was an early and important centre of Christianity, but largely adopted Islam in the seventh century. Cairo became the capital of the Fatimid Caliphate in the tenth century, and of the Mamluk Sultanate in the 13th century. Egypt then became part of the Ottoman Empire in 1517, before its local ruler Muhammad Ali established it as an autonomous Khedivate in 1867. The country was then occupied by the British Empire and gained independence in 1922 as a monarchy. Following the 1952 revolution, Egypt declared itself a republic, and in 1958 it merged with Syria to form the United Arab Republic, which was dissolved in 1961. Egypt fought several armed conflicts with Israel in 1948, 1956, 1967 and 1973, and occupyed the Gaza Strip intermittently until 1967. In 1978, Egypt signed the Camp David Accords, which recognised Israel in exchange for its withdrawal from the Sinai. After the Arab Spring, which led to the 2011 Egyptian revolution and overthrow of Hosni Mubarak, the country faced a protracted period of political unrest; this included the election in 2012 of a brief, short-lived Muslim Brotherhood-aligned Islamist government spearheaded by Mohamed Morsi, and its subsequent overthrow after mass protests in 2013.\n",
    "\n",
    "Egypt's current government, a semi-presidential republic led by president Abdel Fattah el-Sisi since he was elected in 2014, has been described by a number of watchdogs as authoritarian and responsible for perpetuating the country's poor human rights record. Islam is the official religion of Egypt, and Arabic is its official language.[1] The great majority of its people live near the banks of the Nile River, an area of about 40,000 square kilometres (15,000 sq mi), where the only arable land is found. The large regions of the Sahara desert, which constitute most of Egypt's territory, are sparsely inhabited. About 43% of Egypt's residents live across the country's urban areas,[23] with most spread across the densely populated centres of greater Cairo, Alexandria and other major cities in the Nile Delta.\n",
    "\n",
    "Egypt is considered to be a regional power in North Africa, the Middle East and the Muslim world, and a middle power worldwide.[24] It is a developing country having a diversified economy, which is the third-largest in Africa, the 38th-largest economy by nominal GDP and 127th by nominal GDP per capita.[25] Egypt is a founding member of the United Nations, the Non-Aligned Movement, the Arab League, the African Union, Organisation of Islamic Cooperation, World Youth Forum, and a member of BRICS.'''\n"
   ]
  },
  {
   "cell_type": "code",
   "execution_count": 19,
   "metadata": {},
   "outputs": [
    {
     "name": "stderr",
     "output_type": "stream",
     "text": [
      "Created a chunk of size 239, which is longer than the specified 200\n",
      "Created a chunk of size 302, which is longer than the specified 200\n",
      "Created a chunk of size 281, which is longer than the specified 200\n",
      "Created a chunk of size 349, which is longer than the specified 200\n",
      "Created a chunk of size 260, which is longer than the specified 200\n",
      "Created a chunk of size 247, which is longer than the specified 200\n"
     ]
    },
    {
     "data": {
      "text/plain": [
       "['Egypt (Arabic: مصر Miṣr [mesˁr], Egyptian Arabic pronunciation: [mɑsˤr]), officially the Arab Republic of Egypt, is a transcontinental country spanning the northeast corner of Africa and the Sinai Peninsula in the southwest corner of Asia.',\n",
       " 'It is bordered by the Mediterranean Sea to the north, the Gaza Strip of Palestine to the northeast, the Red Sea to the east, Sudan to the south, and Libya to the west.',\n",
       " 'The Gulf of Aqaba in the northeast separates Egypt from Jordan and Saudi Arabia.',\n",
       " 'Cairo is the capital and largest city of Egypt, while Alexandria, the second-largest city, is an important industrial and tourist hub at the Mediterranean coast.[21] At approximately 100 million inhabitants, Egypt is the 14th-most populated country in the world, and the third-most populated in Africa.',\n",
       " 'Egypt has one of the longest histories of any country, tracing its heritage along the Nile Delta back to the 6th–4th millennia BCE.',\n",
       " 'Considered a cradle of civilisation, Ancient Egypt saw some of the earliest developments of writing, agriculture, urbanisation, organised religion and central government.[22] Egypt was an early and important centre of Christianity, but largely adopted Islam in the seventh century.',\n",
       " 'Cairo became the capital of the Fatimid Caliphate in the tenth century, and of the Mamluk Sultanate in the 13th century.',\n",
       " 'Egypt then became part of the Ottoman Empire in 1517, before its local ruler Muhammad Ali established it as an autonomous Khedivate in 1867.',\n",
       " 'The country was then occupied by the British Empire and gained independence in 1922 as a monarchy.',\n",
       " 'Following the 1952 revolution, Egypt declared itself a republic, and in 1958 it merged with Syria to form the United Arab Republic, which was dissolved in 1961.',\n",
       " 'Egypt fought several armed conflicts with Israel in 1948, 1956, 1967 and 1973, and occupyed the Gaza Strip intermittently until 1967.',\n",
       " 'In 1978, Egypt signed the Camp David Accords, which recognised Israel in exchange for its withdrawal from the Sinai.',\n",
       " 'After the Arab Spring, which led to the 2011 Egyptian revolution and overthrow of Hosni Mubarak, the country faced a protracted period of political unrest; this included the election in 2012 of a brief, short-lived Muslim Brotherhood-aligned Islamist government spearheaded by Mohamed Morsi, and its subsequent overthrow after mass protests in 2013.',\n",
       " \"Egypt's current government, a semi-presidential republic led by president Abdel Fattah el-Sisi since he was elected in 2014, has been described by a number of watchdogs as authoritarian and responsible for perpetuating the country's poor human rights record.\",\n",
       " 'Islam is the official religion of Egypt, and Arabic is its official language.[1] The great majority of its people live near the banks of the Nile River, an area of about 40,000 square kilometres (15,000 sq mi), where the only arable land is found.',\n",
       " \"The large regions of the Sahara desert, which constitute most of Egypt's territory, are sparsely inhabited.\",\n",
       " \"About 43% of Egypt's residents live across the country's urban areas,[23] with most spread across the densely populated centres of greater Cairo, Alexandria and other major cities in the Nile Delta.\",\n",
       " 'Egypt is considered to be a regional power in North Africa, the Middle East and the Muslim world, and a middle power worldwide.[24] It is a developing country having a diversified economy, which is the third-largest in Africa, the 38th-largest economy by nominal GDP and 127th by nominal GDP per capita.[25] Egypt is a founding member of the United Nations, the Non-Aligned Movement, the Arab League, the African Union, Organisation of Islamic Cooperation, World Youth Forum, and a member of BRICS.']"
      ]
     },
     "execution_count": 19,
     "metadata": {},
     "output_type": "execute_result"
    }
   ],
   "source": [
    "text_splitte = text_splitter(text=text, type=3, chunk_size=200 , chunk_overlap=50)\n",
    "text_splitte"
   ]
  },
  {
   "cell_type": "code",
   "execution_count": 4,
   "metadata": {},
   "outputs": [
    {
     "name": "stderr",
     "output_type": "stream",
     "text": [
      "d:\\Repo\\NeuarLearn-QA-ChatBot-RAG-Pipline\\myenv\\lib\\site-packages\\tqdm\\auto.py:21: TqdmWarning: IProgress not found. Please update jupyter and ipywidgets. See https://ipywidgets.readthedocs.io/en/stable/user_install.html\n",
      "  from .autonotebook import tqdm as notebook_tqdm\n"
     ]
    }
   ],
   "source": [
    "runtime = \"cuda\" if torch.cuda.is_available() else \"cpu\"\n",
    "embed_model = embedding_model(runtime=runtime) \n",
    "\n",
    "db = vector_db(text=text_splitte, embdedding=embed_model)"
   ]
  },
  {
   "cell_type": "code",
   "execution_count": 20,
   "metadata": {},
   "outputs": [],
   "source": [
    "query = \"Who is Hosni Mubarak ?\"\n",
    "retrieved_doc = retrieval(vector_db=db, query=query, k = 5)"
   ]
  },
  {
   "cell_type": "code",
   "execution_count": 21,
   "metadata": {},
   "outputs": [
    {
     "data": {
      "text/plain": [
       "[(Document(page_content='After the Arab Spring, which led to the 2011 Egyptian revolution and overthrow of Hosni Mubarak, the country faced a protracted period of political unrest; this included the election in 2012 of a brief, short-lived Muslim Brotherhood-aligned Islamist government spearheaded by Mohamed Morsi, and its subsequent overthrow after mass protests in 2013.'),\n",
       "  0.20928154209426775),\n",
       " (Document(page_content=\"Egypt's current government, a semi-presidential republic led by president Abdel Fattah el-Sisi since he was elected in 2014, has been described by a number of watchdogs as authoritarian and responsible for perpetuating the country's poor human rights record.\"),\n",
       "  0.20681064095346813),\n",
       " (Document(page_content='Egypt is considered to be a regional power in North Africa, the Middle East and the Muslim world, and a middle power worldwide.[24] It is a developing country having a diversified economy, which is the third-largest in Africa, the 38th-largest economy by nominal GDP and 127th by nominal GDP per capita.[25] Egypt is a founding member of the United Nations, the Non-Aligned Movement, the Arab League, the African Union, Organisation of Islamic Cooperation, World Youth Forum, and a member of BRICS.'),\n",
       "  0.055242650100773116),\n",
       " (Document(page_content='Egypt (Arabic: مصر Miṣr [mesˁr], Egyptian Arabic pronunciation: [mɑsˤr]), officially the Arab Republic of Egypt, is a transcontinental country spanning the northeast corner of Africa and the Sinai Peninsula in the southwest corner of Asia.'),\n",
       "  0.019799089258142777),\n",
       " (Document(page_content='Islam is the official religion of Egypt, and Arabic is its official language.[1] The great majority of its people live near the banks of the Nile River, an area of about 40,000 square kilometres (15,000 sq mi), where the only arable land is found.'),\n",
       "  0.007515727434430741)]"
      ]
     },
     "execution_count": 21,
     "metadata": {},
     "output_type": "execute_result"
    }
   ],
   "source": [
    "retrieved_doc"
   ]
  },
  {
   "cell_type": "code",
   "execution_count": 7,
   "metadata": {},
   "outputs": [
    {
     "name": "stdout",
     "output_type": "stream",
     "text": [
      "('After the Arab Spring, which led to the 2011 Egyptian revolution and '\n",
      " 'overthrow of Hosni Mubarak, the country faced a protracted period of '\n",
      " 'political unrest; this included the election in 2012 of a brief, short-lived '\n",
      " 'Muslim Brotherhood-aligned Islamist government spearheaded by Mohamed Morsi, '\n",
      " 'and its subsequent overthrow after mass protests in 2013.')\n"
     ]
    }
   ],
   "source": [
    "from pprint import pprint\n",
    "pprint(retrieved_doc[0][0].page_content)"
   ]
  },
  {
   "cell_type": "code",
   "execution_count": 8,
   "metadata": {},
   "outputs": [
    {
     "name": "stdout",
     "output_type": "stream",
     "text": [
      "(\"Egypt's current government, a semi-presidential republic led by president \"\n",
      " 'Abdel Fattah el-Sisi since he was elected in 2014, has been described by a '\n",
      " 'number of watchdogs as authoritarian and responsible for perpetuating the '\n",
      " \"country's poor human rights record.\")\n"
     ]
    }
   ],
   "source": [
    "pprint(retrieved_doc[1][0].page_content)"
   ]
  },
  {
   "cell_type": "code",
   "execution_count": 9,
   "metadata": {},
   "outputs": [
    {
     "name": "stdout",
     "output_type": "stream",
     "text": [
      "('Egypt is considered to be a regional power in North Africa, the Middle East '\n",
      " 'and the Muslim world, and a middle power worldwide.[24] It is a developing '\n",
      " 'country having a diversified economy, which is the third-largest in Africa, '\n",
      " 'the 38th-largest economy by nominal GDP and 127th by nominal GDP per '\n",
      " 'capita.[25] Egypt is a founding member of the United Nations, the '\n",
      " 'Non-Aligned Movement, the Arab League, the African Union, Organisation of '\n",
      " 'Islamic Cooperation, World Youth Forum, and a member of BRICS.')\n"
     ]
    }
   ],
   "source": [
    "pprint(retrieved_doc[2][0].page_content)"
   ]
  },
  {
   "cell_type": "code",
   "execution_count": 10,
   "metadata": {},
   "outputs": [
    {
     "name": "stdout",
     "output_type": "stream",
     "text": [
      "Token has not been saved to git credential helper. Pass `add_to_git_credential=True` if you want to set the git credential as well.\n",
      "Token is valid (permission: read).\n",
      "Your token has been saved to C:\\Users\\HP\\.cache\\huggingface\\token\n",
      "Login successful\n"
     ]
    }
   ],
   "source": [
    "from dotenv import load_dotenv\n",
    "from model_utils import GemmaLLM_Api_EndPoint\n",
    "\n",
    "\n",
    "_ = load_dotenv()\n",
    "llm = GemmaLLM_Api_EndPoint()"
   ]
  },
  {
   "cell_type": "code",
   "execution_count": 11,
   "metadata": {},
   "outputs": [
    {
     "data": {
      "text/plain": [
       "'According to the provided text, Egypt is a transcontinental country spanning the northeast corner of Africa and the Sinai Peninsula in the southwest corner of Asia.'"
      ]
     },
     "execution_count": 11,
     "metadata": {},
     "output_type": "execute_result"
    }
   ],
   "source": [
    "from langchain_core.runnables import RunnablePassthrough , RunnableParallel\n",
    "from document_prompts_utils import prompt\n",
    "\n",
    "def format_docs(docs):\n",
    "    return \"\\n\".join(doc.page_content for doc in docs)\n",
    "\n",
    "rag_chain = (\n",
    "    RunnablePassthrough.assign(context=(lambda x: format_docs(x[\"context\"])))\n",
    "    | prompt\n",
    "    | llm\n",
    ")\n",
    "\n",
    "rag_chain_with_source = RunnableParallel(\n",
    "     {\"context\":  db.as_retriever(search_type=\"similarity\", search_kwargs={\"k\": 2})  , \"query\": RunnablePassthrough()}\n",
    ").assign(answer=rag_chain)\n",
    "\n",
    "result = rag_chain_with_source.invoke(\"where is egypt ?\")\n",
    "result['answer']"
   ]
  },
  {
   "cell_type": "code",
   "execution_count": 12,
   "metadata": {},
   "outputs": [
    {
     "name": "stdout",
     "output_type": "stream",
     "text": [
      "[Document(page_content='Egypt (Arabic: مصر Miṣr [mesˁr], Egyptian Arabic pronunciation: [mɑsˤr]), officially the Arab Republic of Egypt, is a transcontinental country spanning the northeast corner of Africa and the Sinai Peninsula in the southwest corner of Asia.'),\n",
      " Document(page_content='Egypt is considered to be a regional power in North Africa, the Middle East and the Muslim world, and a middle power worldwide.[24] It is a developing country having a diversified economy, which is the third-largest in Africa, the 38th-largest economy by nominal GDP and 127th by nominal GDP per capita.[25] Egypt is a founding member of the United Nations, the Non-Aligned Movement, the Arab League, the African Union, Organisation of Islamic Cooperation, World Youth Forum, and a member of BRICS.')]\n"
     ]
    }
   ],
   "source": [
    "pprint(result['context'])"
   ]
  },
  {
   "cell_type": "code",
   "execution_count": 13,
   "metadata": {},
   "outputs": [
    {
     "name": "stdout",
     "output_type": "stream",
     "text": [
      "{'answer': 'The borders of Egypt in northeast are as follows:\\n'\n",
      "           '\\n'\n",
      "           '- To the north, it borders the Mediterranean Sea.\\n'\n",
      "           '- To the northeast, it borders the Gaza Strip of Palestine.\\n'\n",
      "           '- To the east, it borders the Red Sea.\\n'\n",
      "           '- To the south, it borders Sudan.\\n'\n",
      "           '- To the west, it borders Libya.',\n",
      " 'document': [Document(page_content='The Gulf of Aqaba in the northeast separates Egypt from Jordan and Saudi Arabia.'),\n",
      "              Document(page_content='It is bordered by the Mediterranean Sea to the north, the Gaza Strip of Palestine to the northeast, the Red Sea to the east, Sudan to the south, and Libya to the west.'),\n",
      "              Document(page_content='Egypt (Arabic: مصر Miṣr [mesˁr], Egyptian Arabic pronunciation: [mɑsˤr]), officially the Arab Republic of Egypt, is a transcontinental country spanning the northeast corner of Africa and the Sinai Peninsula in the southwest corner of Asia.')],\n",
      " 'query': 'where is borders of egypt in northeast'}\n"
     ]
    }
   ],
   "source": [
    "from model_utils import invoke_with_source\n",
    "query = \"where is borders of egypt in northeast\"\n",
    "result = invoke_with_source(llm, db, query)\n",
    "pprint(result)"
   ]
  },
  {
   "cell_type": "code",
   "execution_count": 14,
   "metadata": {},
   "outputs": [
    {
     "name": "stdout",
     "output_type": "stream",
     "text": [
      "('\\n'\n",
      " '\\n'\n",
      " 'Answer: Egypt is a transcontinental country spanning the northeast corner of '\n",
      " 'Africa and the Sinai Peninsula in the southwest corner of Asia. It is '\n",
      " 'considered to be a regional power in North Africa, the Middle East and the '\n",
      " 'Muslim world, and a middle power worldwide. Islam is the official religion '\n",
      " 'of Egypt, and Arabic is its official language.')\n"
     ]
    }
   ],
   "source": [
    "from memory_utils import chat\n",
    "\n",
    "chat_history = []\n",
    "\n",
    "retrieval_db = db.as_retriever(search_type=\"similarity\", \n",
    "                               search_kwargs={\"k\": 3})\n",
    "\n",
    "result, chat_history = chat(llm,question=\"what is egypt ?\",\n",
    "                             retriever=retrieval_db,chat_history=chat_history,\n",
    "                             add_to_history=True)\n",
    "pprint(result['answer'])"
   ]
  },
  {
   "cell_type": "code",
   "execution_count": 15,
   "metadata": {},
   "outputs": [
    {
     "data": {
      "text/plain": [
       "{'input': 'what is egypt ?',\n",
       " 'chat_history': ['what is egypt ?',\n",
       "  '\\n\\nAnswer: Egypt is a transcontinental country spanning the northeast corner of Africa and the Sinai Peninsula in the southwest corner of Asia. It is considered to be a regional power in North Africa, the Middle East and the Muslim world, and a middle power worldwide. Islam is the official religion of Egypt, and Arabic is its official language.'],\n",
       " 'context': [Document(page_content='Egypt (Arabic: مصر Miṣr [mesˁr], Egyptian Arabic pronunciation: [mɑsˤr]), officially the Arab Republic of Egypt, is a transcontinental country spanning the northeast corner of Africa and the Sinai Peninsula in the southwest corner of Asia.'),\n",
       "  Document(page_content='Egypt is considered to be a regional power in North Africa, the Middle East and the Muslim world, and a middle power worldwide.[24] It is a developing country having a diversified economy, which is the third-largest in Africa, the 38th-largest economy by nominal GDP and 127th by nominal GDP per capita.[25] Egypt is a founding member of the United Nations, the Non-Aligned Movement, the Arab League, the African Union, Organisation of Islamic Cooperation, World Youth Forum, and a member of BRICS.'),\n",
       "  Document(page_content='Islam is the official religion of Egypt, and Arabic is its official language.[1] The great majority of its people live near the banks of the Nile River, an area of about 40,000 square kilometres (15,000 sq mi), where the only arable land is found.')],\n",
       " 'answer': '\\n\\nAnswer: Egypt is a transcontinental country spanning the northeast corner of Africa and the Sinai Peninsula in the southwest corner of Asia. It is considered to be a regional power in North Africa, the Middle East and the Muslim world, and a middle power worldwide. Islam is the official religion of Egypt, and Arabic is its official language.'}"
      ]
     },
     "execution_count": 15,
     "metadata": {},
     "output_type": "execute_result"
    }
   ],
   "source": [
    "result"
   ]
  },
  {
   "cell_type": "code",
   "execution_count": 16,
   "metadata": {},
   "outputs": [
    {
     "name": "stdout",
     "output_type": "stream",
     "text": [
      "'\\nAnswer: Abdel Fattah el-Sisi is the current president of Egypt since 2014.'\n"
     ]
    }
   ],
   "source": [
    "result, chat_history = chat(llm,question=\"who is current president ?\",\n",
    "                             retriever=retrieval_db,\n",
    "                             chat_history=chat_history,\n",
    "                             add_to_history=True)\n",
    "pprint(result['answer'])"
   ]
  },
  {
   "cell_type": "code",
   "execution_count": 17,
   "metadata": {},
   "outputs": [
    {
     "data": {
      "text/plain": [
       "['what is egypt ?',\n",
       " '\\n\\nAnswer: Egypt is a transcontinental country spanning the northeast corner of Africa and the Sinai Peninsula in the southwest corner of Asia. It is considered to be a regional power in North Africa, the Middle East and the Muslim world, and a middle power worldwide. Islam is the official religion of Egypt, and Arabic is its official language.',\n",
       " 'who is current president ?',\n",
       " '\\nAnswer: Abdel Fattah el-Sisi is the current president of Egypt since 2014.']"
      ]
     },
     "execution_count": 17,
     "metadata": {},
     "output_type": "execute_result"
    }
   ],
   "source": [
    "chat_history"
   ]
  }
 ],
 "metadata": {
  "kernelspec": {
   "display_name": ".venv",
   "language": "python",
   "name": "python3"
  },
  "language_info": {
   "codemirror_mode": {
    "name": "ipython",
    "version": 3
   },
   "file_extension": ".py",
   "mimetype": "text/x-python",
   "name": "python",
   "nbconvert_exporter": "python",
   "pygments_lexer": "ipython3",
   "version": "3.10.6"
  }
 },
 "nbformat": 4,
 "nbformat_minor": 2
}
